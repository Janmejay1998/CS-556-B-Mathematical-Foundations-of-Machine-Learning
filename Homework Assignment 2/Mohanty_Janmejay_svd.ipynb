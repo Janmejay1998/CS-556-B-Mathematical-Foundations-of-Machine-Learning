{
 "cells": [
  {
   "cell_type": "markdown",
   "metadata": {},
   "source": [
    "##### NAME: JANMEJAY MOHANTY <br> COURSE: CS 556 B <br> COURSE NAME: MATHEMATICAL FOUNDATIONS OF MACHINE LEARNING <br> CWID: 20009315 <br> EMAIL: JMOHANTY@STEVENS.EDU <br> PROGRAM: SVD"
   ]
  },
  {
   "cell_type": "code",
   "execution_count": 76,
   "metadata": {},
   "outputs": [],
   "source": [
    "import numpy as np   # Importing libraries"
   ]
  },
  {
   "cell_type": "code",
   "execution_count": 77,
   "metadata": {},
   "outputs": [
    {
     "name": "stdout",
     "output_type": "stream",
     "text": [
      "U =\n",
      " [[-0.42344517  0.55665609 -0.24102467  0.3305458  -0.24562245]\n",
      " [-0.50699337 -0.47790996 -0.16495257  0.37953185  0.58331032]\n",
      " [-0.37335489  0.50609813 -0.19182881 -0.4734306   0.385749  ]\n",
      " [-0.34447683  0.12820357  0.63388605  0.41223622 -0.23721861]\n",
      " [-0.42422527 -0.40791144 -0.38601146 -0.2525886  -0.62705737]\n",
      " [-0.35443853 -0.15090679  0.57191179 -0.53741866  0.033805  ]]\n",
      "\n",
      "S =\n",
      " [[13.2663997   0.          0.          0.          0.        ]\n",
      " [ 0.          7.31094493  0.          0.          0.        ]\n",
      " [ 0.          0.          4.68971622  0.          0.        ]\n",
      " [ 0.          0.          0.          0.89013458  0.        ]\n",
      " [ 0.          0.          0.          0.          0.51666749]]\n",
      "\n",
      "V =\n",
      " [[-0.43399074  0.55963405 -0.07820851  0.42591506 -0.55762134]\n",
      " [-0.40613677  0.53864051 -0.20812855 -0.48880552  0.51251438]\n",
      " [-0.42465386 -0.08782676  0.89447713 -0.01119466  0.10835544]\n",
      " [-0.46105389 -0.38001516 -0.30501222  0.57946426  0.46282448]\n",
      " [-0.50378901 -0.49452105 -0.23967508 -0.49372196 -0.44770531]]\n",
      "\n",
      "VT =\n",
      " [[-0.43399074 -0.40613677 -0.42465386 -0.46105389 -0.50378901]\n",
      " [ 0.55963405  0.53864051 -0.08782676 -0.38001516 -0.49452105]\n",
      " [-0.07820851 -0.20812855  0.89447713 -0.30501222 -0.23967508]\n",
      " [ 0.42591506 -0.48880552 -0.01119466  0.57946426 -0.49372196]\n",
      " [-0.55762134  0.51251438  0.10835544  0.46282448 -0.44770531]]\n"
     ]
    }
   ],
   "source": [
    "u = np.load('U.npy')\n",
    "s = np.load('S.npy')\n",
    "s = np.diag(s)\n",
    "vt = np.load('V_transpose.npy')\n",
    "v = np.transpose(vt)\n",
    "\n",
    "print(\"U =\\n {}\\n\\nS =\\n {}\\n\\nV =\\n {}\\n\\nVT =\\n {}\".format(u,s,v,vt))"
   ]
  },
  {
   "cell_type": "markdown",
   "metadata": {},
   "source": [
    "## Strength of concept 1 in the SVD Decomposition"
   ]
  },
  {
   "cell_type": "code",
   "execution_count": 78,
   "metadata": {},
   "outputs": [
    {
     "name": "stdout",
     "output_type": "stream",
     "text": [
      "The Strength of concept 1 in SVD decomposition:  13.27\n"
     ]
    }
   ],
   "source": [
    "print(\"The Strength of concept 1 in SVD decomposition: \", round(s[0][0],2))"
   ]
  },
  {
   "cell_type": "markdown",
   "metadata": {},
   "source": [
    "### The computing missing rating for Movie 5 (Casablanca) across all users in the system"
   ]
  },
  {
   "cell_type": "code",
   "execution_count": 79,
   "metadata": {},
   "outputs": [
    {
     "name": "stdout",
     "output_type": "stream",
     "text": [
      "R(User3, Casablanca) = UUser1.S.VT =  1.0\n"
     ]
    }
   ],
   "source": [
    "us = np.matmul(u[2],s)\n",
    "#print(us)\n",
    "#print(vt[:,4])\n",
    "Cu3 = usvt = round(np.matmul(us,vt[:,4]),2)\n",
    "print(\"R(User3, Casablanca) = UUser1.S.VT = \", Cu3)"
   ]
  },
  {
   "cell_type": "code",
   "execution_count": 80,
   "metadata": {},
   "outputs": [
    {
     "name": "stdout",
     "output_type": "stream",
     "text": [
      "R(User4, Casablanca) = UUser1.S.VT =  1.0\n"
     ]
    }
   ],
   "source": [
    "us = np.matmul(u[3],s)\n",
    "#print(us)\n",
    "#print(vt[:,4])\n",
    "Cu4 = usvt = round(np.matmul(us,vt[:,4]),2)\n",
    "print(\"R(User4, Casablanca) = UUser1.S.VT = \", Cu4)"
   ]
  },
  {
   "cell_type": "code",
   "execution_count": 81,
   "metadata": {},
   "outputs": [
    {
     "name": "stdout",
     "output_type": "stream",
     "text": [
      "R(User6, Casablanca) = UUser1.S.VT =  2.5\n"
     ]
    }
   ],
   "source": [
    "us = np.matmul(u[5],s)\n",
    "#print(us)\n",
    "#print(vt[:,4])\n",
    "Cu6 = usvt = round(np.matmul(us,vt[:,4]),2)\n",
    "print(\"R(User6, Casablanca) = UUser1.S.VT = \", Cu6)"
   ]
  },
  {
   "cell_type": "markdown",
   "metadata": {},
   "source": [
    "### The computing missing rating for Movie 4 (Amelie) across all users in the system"
   ]
  },
  {
   "cell_type": "code",
   "execution_count": 82,
   "metadata": {},
   "outputs": [
    {
     "name": "stdout",
     "output_type": "stream",
     "text": [
      "R(User1, Amelie) = UUser1.S.VT =  1.5\n"
     ]
    }
   ],
   "source": [
    "us = np.matmul(u[0],s)\n",
    "#print(us)\n",
    "#print(vt[:,3])\n",
    "Au1 = usvt = round(np.matmul(us,vt[:,3]),2)\n",
    "print(\"R(User1, Amelie) = UUser1.S.VT = \", Au1)\n"
   ]
  },
  {
   "cell_type": "code",
   "execution_count": 83,
   "metadata": {},
   "outputs": [
    {
     "name": "stdout",
     "output_type": "stream",
     "text": [
      "R(User3, Amelie) = UUser1.S.VT =  1.0\n"
     ]
    }
   ],
   "source": [
    "us = np.matmul(u[2],s)\n",
    "#print(us)\n",
    "#print(vt[:,3])\n",
    "Au3 = usvt = round(np.matmul(us,vt[:,3]),2)\n",
    "print(\"R(User3, Amelie) = UUser1.S.VT = \", Au3)"
   ]
  },
  {
   "cell_type": "code",
   "execution_count": 84,
   "metadata": {},
   "outputs": [
    {
     "name": "stdout",
     "output_type": "stream",
     "text": [
      "R(User4, Amelie) = UUser1.S.VT =  1.0\n"
     ]
    }
   ],
   "source": [
    "us = np.matmul(u[3],s)\n",
    "#print(us)\n",
    "#print(vt[:,3])\n",
    "Au4 = usvt = round(np.matmul(us,vt[:,3]),2)\n",
    "print(\"R(User4, Amelie) = UUser1.S.VT = \", Au4)"
   ]
  },
  {
   "cell_type": "code",
   "execution_count": 85,
   "metadata": {},
   "outputs": [
    {
     "name": "stdout",
     "output_type": "stream",
     "text": [
      "R(User6, Amelie) = UUser1.S.VT =  1.5\n"
     ]
    }
   ],
   "source": [
    "us = np.matmul(u[5],s)\n",
    "#print(us)\n",
    "#print(vt[:,3])\n",
    "Au6 = usvt = round(np.matmul(us,vt[:,3]),2)\n",
    "print(\"R(User6, Amelie) = UUser1.S.VT = \", Au6)"
   ]
  },
  {
   "cell_type": "markdown",
   "metadata": {},
   "source": [
    "### The computing missing rating for Movie 3 (Harry Potter) across all users in the system"
   ]
  },
  {
   "cell_type": "code",
   "execution_count": 86,
   "metadata": {},
   "outputs": [
    {
     "name": "stdout",
     "output_type": "stream",
     "text": [
      "R(User1, Harry Potter) = UUser1.S.VT =  1.0\n"
     ]
    }
   ],
   "source": [
    "us = np.matmul(u[0],s)\n",
    "#print(us)\n",
    "#print(vt[:,2])\n",
    "Hu1 = usvt = round(np.matmul(us,vt[:,2]),2)\n",
    "print(\"R(User1, Harry Potter) = UUser1.S.VT = \", Hu1)"
   ]
  },
  {
   "cell_type": "code",
   "execution_count": 87,
   "metadata": {},
   "outputs": [
    {
     "name": "stdout",
     "output_type": "stream",
     "text": [
      "R(User3, Harry Potter) = UUser1.S.VT =  1.0\n"
     ]
    }
   ],
   "source": [
    "us = np.matmul(u[2],s)\n",
    "#print(us)\n",
    "#print(vt[:,2])\n",
    "Hu3 = usvt = round(np.matmul(us,vt[:,2]),2)\n",
    "print(\"R(User3, Harry Potter) = UUser1.S.VT = \", Hu3)"
   ]
  },
  {
   "cell_type": "code",
   "execution_count": 88,
   "metadata": {},
   "outputs": [
    {
     "name": "stdout",
     "output_type": "stream",
     "text": [
      "R(User5, Harry Potter) = UUser1.S.VT =  1.0\n"
     ]
    }
   ],
   "source": [
    "us = np.matmul(u[4],s)\n",
    "#print(us)\n",
    "#print(vt[:,2])\n",
    "Hu5 = usvt = round(np.matmul(us,vt[:,2]),2)\n",
    "print(\"R(User5, Harry Potter) = UUser1.S.VT = \", Hu5)"
   ]
  },
  {
   "cell_type": "markdown",
   "metadata": {},
   "source": [
    "### The computing missing rating for Movie 2 (Top Gun) across all users in the system"
   ]
  },
  {
   "cell_type": "code",
   "execution_count": 89,
   "metadata": {},
   "outputs": [
    {
     "name": "stdout",
     "output_type": "stream",
     "text": [
      "R(User2, Top Gun) = UUser1.S.VT =  1.0\n"
     ]
    }
   ],
   "source": [
    "us = np.matmul(u[1],s)\n",
    "#print(us)\n",
    "#print(vt[:,1])\n",
    "Tu2 = usvt = round(np.matmul(us,vt[:,1]),2)\n",
    "print(\"R(User2, Top Gun) = UUser1.S.VT = \", Tu2)"
   ]
  },
  {
   "cell_type": "code",
   "execution_count": 90,
   "metadata": {},
   "outputs": [
    {
     "name": "stdout",
     "output_type": "stream",
     "text": [
      "R(User5, Top Gun) = UUser1.S.VT =  1.0\n"
     ]
    }
   ],
   "source": [
    "us = np.matmul(u[4],s)\n",
    "#print(us)\n",
    "#print(vt[:,1])\n",
    "Tu5 = usvt = round(np.matmul(us,vt[:,1]),2)\n",
    "print(\"R(User5, Top Gun) = UUser1.S.VT = \", Tu5)"
   ]
  },
  {
   "cell_type": "code",
   "execution_count": 91,
   "metadata": {},
   "outputs": [
    {
     "name": "stdout",
     "output_type": "stream",
     "text": [
      "R(User6, Top Gun) = UUser1.S.VT =  1.0\n"
     ]
    }
   ],
   "source": [
    "us = np.matmul(u[5],s)\n",
    "#print(us)\n",
    "#print(vt[:,1])\n",
    "Tu6 = usvt = round(np.matmul(us,vt[:,1]),2)\n",
    "print(\"R(User6, Top Gun) = UUser1.S.VT = \", Tu6)"
   ]
  },
  {
   "cell_type": "markdown",
   "metadata": {},
   "source": [
    "### The computing missing rating for Movie 1 (Rambo) across all users in the system"
   ]
  },
  {
   "cell_type": "code",
   "execution_count": 92,
   "metadata": {},
   "outputs": [
    {
     "name": "stdout",
     "output_type": "stream",
     "text": [
      "R(User2, Rambo) = UUser1.S.VT =  1.0\n"
     ]
    }
   ],
   "source": [
    "us = np.matmul(u[1],s)\n",
    "#print(us)\n",
    "#print(vt[:,0])\n",
    "Ru2 = usvt = round(np.matmul(us,vt[:,0]),2)\n",
    "print(\"R(User2, Rambo) = UUser1.S.VT = \", Ru2)"
   ]
  },
  {
   "cell_type": "code",
   "execution_count": 93,
   "metadata": {},
   "outputs": [
    {
     "name": "stdout",
     "output_type": "stream",
     "text": [
      "R(User4, Rambo) = UUser1.S.VT =  2.5\n"
     ]
    }
   ],
   "source": [
    "us = np.matmul(u[3],s)\n",
    "#print(us)\n",
    "#print(vt[:,0])\n",
    "Ru4 = usvt = round(np.matmul(us,vt[:,0]),2)\n",
    "print(\"R(User4, Rambo) = UUser1.S.VT = \", Ru4)"
   ]
  },
  {
   "cell_type": "code",
   "execution_count": 94,
   "metadata": {},
   "outputs": [
    {
     "name": "stdout",
     "output_type": "stream",
     "text": [
      "R(User2, Rambo) = UUser1.S.VT =  1.0\n"
     ]
    }
   ],
   "source": [
    "us = np.matmul(u[5],s)\n",
    "#print(us)\n",
    "#print(vt[:,0])\n",
    "Ru6 = usvt = round(np.matmul(us,vt[:,0]),2)\n",
    "print(\"R(User2, Rambo) = UUser1.S.VT = \", Ru6)"
   ]
  },
  {
   "cell_type": "code",
   "execution_count": 95,
   "metadata": {},
   "outputs": [
    {
     "name": "stdout",
     "output_type": "stream",
     "text": [
      "Rating Matrix =\n",
      " [[5.  4.5 1.  1.5 1. ]\n",
      " [1.  1.  2.5 5.  5. ]\n",
      " [4.  4.5 1.  1.  1. ]\n",
      " [2.5 1.5 4.5 1.  1. ]\n",
      " [1.  1.  1.  4.  5. ]\n",
      " [1.  1.  4.5 1.5 2.5]]\n"
     ]
    }
   ],
   "source": [
    "rating = np.matrix([[5.0 ,4.5,Hu1,Au1,1.0],[Ru2,Tu2,2.5,5.0,5.0],[4.0,4.5,Hu3,Au3,Cu3],[Ru4,1.5,4.5,Au4,Cu4],[1.0,Tu5,Hu5,4.0,5.0],[Ru6,Tu6,4.5,Au6,Cu6]])\n",
    "print(\"Rating Matrix =\\n {}\".format(rating))"
   ]
  },
  {
   "cell_type": "code",
   "execution_count": 96,
   "metadata": {},
   "outputs": [
    {
     "name": "stdout",
     "output_type": "stream",
     "text": [
      "[[2.41666667 2.25       2.41666667 2.33333333 2.58333333]]\n"
     ]
    }
   ],
   "source": [
    "avg = np.mean(rating, axis=0)\n",
    "print(avg)"
   ]
  },
  {
   "cell_type": "markdown",
   "metadata": {},
   "source": [
    "### The average rating for Movie 3 (Harry Potter) across all users in the system"
   ]
  },
  {
   "cell_type": "code",
   "execution_count": 97,
   "metadata": {},
   "outputs": [
    {
     "name": "stdout",
     "output_type": "stream",
     "text": [
      "Average rating of Harry Potter:  [[2.41666667]]\n"
     ]
    }
   ],
   "source": [
    "H_avg = avg[:,2]\n",
    "print(\"Average rating of Harry Potter: \", H_avg)"
   ]
  },
  {
   "cell_type": "code",
   "execution_count": 98,
   "metadata": {},
   "outputs": [],
   "source": [
    "def ohr(x,average):     # Function defined for finding out overall highest rating\n",
    "    if x == 0: \n",
    "        print(\"Rambo has overall highest rating: \",average)\n",
    "    elif x == 1: \n",
    "        print(\"Top-Gun has overall highest rating: \",average)  \n",
    "    elif x == 2: \n",
    "        print(\"Harry Potter has overall highest rating: \",average) \n",
    "    elif x == 3: \n",
    "        print(\"Amelie has overall highest rating: \",average)  \n",
    "    else: \n",
    "        print(\"Casablanca has overall highest rating: \",average)              "
   ]
  },
  {
   "cell_type": "code",
   "execution_count": 99,
   "metadata": {},
   "outputs": [
    {
     "name": "stdout",
     "output_type": "stream",
     "text": [
      "Casablanca has overall highest rating:  2.5833333333333335\n"
     ]
    }
   ],
   "source": [
    "m = np.max(avg)\n",
    "result = np.where(avg == np.max(avg))\n",
    "loc = result[1]\n",
    "ohr(loc,m)"
   ]
  }
 ],
 "metadata": {
  "kernelspec": {
   "display_name": "Python 3.10.5 64-bit",
   "language": "python",
   "name": "python3"
  },
  "language_info": {
   "codemirror_mode": {
    "name": "ipython",
    "version": 3
   },
   "file_extension": ".py",
   "mimetype": "text/x-python",
   "name": "python",
   "nbconvert_exporter": "python",
   "pygments_lexer": "ipython3",
   "version": "3.10.5"
  },
  "orig_nbformat": 4,
  "vscode": {
   "interpreter": {
    "hash": "79f58b2da1d0ebeef0843b536b913fe6ecf5d6027e7f201d25bafe70c90b7910"
   }
  }
 },
 "nbformat": 4,
 "nbformat_minor": 2
}
